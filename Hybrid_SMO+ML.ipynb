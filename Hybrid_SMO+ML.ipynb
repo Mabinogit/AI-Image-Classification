{
  "nbformat": 4,
  "nbformat_minor": 0,
  "metadata": {
    "colab": {
      "provenance": [],
      "authorship_tag": "ABX9TyMPulMV1JOkBksCuwoygO42",
      "include_colab_link": true
    },
    "kernelspec": {
      "name": "python3",
      "display_name": "Python 3"
    },
    "language_info": {
      "name": "python"
    }
  },
  "cells": [
    {
      "cell_type": "markdown",
      "metadata": {
        "id": "view-in-github",
        "colab_type": "text"
      },
      "source": [
        "<a href=\"https://colab.research.google.com/github/Mabinogit/AI-Image-Classification/blob/main/Hybrid_SMO%2BML.ipynb\" target=\"_parent\"><img src=\"https://colab.research.google.com/assets/colab-badge.svg\" alt=\"Open In Colab\"/></a>"
      ]
    },
    {
      "cell_type": "markdown",
      "source": [
        "# Build and train estimators\n",
        "\n",
        "Implement Coulomb counting,EKF ,SMO and my hybrid SMO + ML using the dataset.\n",
        "\n",
        "Evaluate SOC/SOH estimation accuracy (RMSE,MAE)\n",
        "\n",
        "Compare performace of each method across different load codintions or aging levels\n"
      ],
      "metadata": {
        "id": "zKztbmV331xm"
      }
    },
    {
      "cell_type": "markdown",
      "source": [
        "# Coulomb Counting"
      ],
      "metadata": {
        "id": "7A_rIJviuOqm"
      }
    },
    {
      "cell_type": "code",
      "execution_count": null,
      "metadata": {
        "id": "WXcEctSl30hu",
        "colab": {
          "base_uri": "https://localhost:8080/"
        },
        "outputId": "178f2dd0-0e17-4a3e-c925-b415bc6816e4"
      },
      "outputs": [
        {
          "output_type": "stream",
          "name": "stdout",
          "text": [
            "Initial SOC: 80%\n",
            "Load changed from 0 to 10\n",
            "Time elapsed since last call: 0.00 seconds\n",
            "Charge transferred: 0.000001 Ah\n",
            "SOC after 5s at 0 load: 80.00%\n",
            "Load changed from 10 to 100\n",
            "Time elapsed since last call: 60.00 seconds\n",
            "Charge transferred: 1.666682 Ah\n",
            "SOC after another 5s at 10 load: 81.67%\n",
            "Load changed from 100 to 5\n",
            "Time elapsed since last call: 60.00 seconds\n",
            "Charge transferred: 0.083334 Ah\n",
            "SOC after another 5s at 5 load: 81.75%\n"
          ]
        }
      ],
      "source": [
        "import time\n",
        "\n",
        "# Global variables to track load and time\n",
        "current_load = 0\n",
        "last_call_time = time.time() # Track the time of the last function call\n",
        "\n",
        "def coulomb_law(InSOC, Batterycap, load):\n",
        "    \"\"\"\n",
        "    Calculates the new SOC based on Coulomb counting,\n",
        "    monitoring load changes and duration.\n",
        "    \"\"\"\n",
        "    global current_load\n",
        "    global last_call_time\n",
        "\n",
        "    # Calculate the time elapsed since the last call\n",
        "    current_time = time.time()\n",
        "    time_elapsed = current_time - last_call_time\n",
        "    last_call_time = current_time # Update the last call time for the next iteration\n",
        "\n",
        "    # Check if the load has changed\n",
        "    if load != current_load:\n",
        "        print(f\"Load changed from {current_load} to {load}\")\n",
        "        current_load = load\n",
        "\n",
        "    # Calculate the charge based on the current load and the time elapsed\n",
        "    # Assuming load is in Amperes and time_elapsed is in seconds\n",
        "    charge = current_load * time_elapsed\n",
        "\n",
        "    # Calculate the new SOC\n",
        "    # Assuming charge is in Ampere-seconds (Coulombs) and Batterycap is in Ampere-hours\n",
        "    # Convert charge to Ampere-hours for consistency (1 Ah = 3600 As)\n",
        "    charge_ah = charge / 3600.0\n",
        "\n",
        "    new_SOC = InSOC + (charge_ah / Batterycap) * 100 # Assuming InSOC is in percentage\n",
        "\n",
        "    # For demonstration, print the time elapsed\n",
        "    print(f\"Time elapsed since last call: {time_elapsed:.2f} seconds\")\n",
        "    print(f\"Charge transferred: {charge_ah:.6f} Ah\")\n",
        "\n",
        "\n",
        "    return new_SOC\n",
        "\n",
        "# Example usage (you would call this function repeatedly in a loop)\n",
        "# For demonstration, let's simulate calls with changing load\n",
        "initial_soc = 80 # Initial SOC in percentage\n",
        "battery_capacity = 100 # Battery capacity in Ah\n",
        "\n",
        "print(f\"Initial SOC: {initial_soc}%\")\n",
        "\n",
        "# Simulate running the function over time with changing load\n",
        "soc_after_5s_load0 = coulomb_law(initial_soc, battery_capacity, 10) # Simulate 0 load for 5 seconds\n",
        "print(f\"SOC after 5s at 0 load: {soc_after_5s_load0:.2f}%\")\n",
        "\n",
        "time.sleep(60) # Simulate passage of time\n",
        "\n",
        "soc_after_another_5s_load10 = coulomb_law(soc_after_5s_load0, battery_capacity, 100) # Simulate load 10 for another 5 seconds\n",
        "print(f\"SOC after another 5s at 10 load: {soc_after_another_5s_load10:.2f}%\")\n",
        "\n",
        "time.sleep(60) # Simulate passage of time\n",
        "\n",
        "soc_after_another_5s_load5 = coulomb_law(soc_after_another_5s_load10, battery_capacity, 5) # Simulate load 5 for another 5 seconds\n",
        "print(f\"SOC after another 5s at 5 load: {soc_after_another_5s_load5:.2f}%\")"
      ]
    }
  ]
}