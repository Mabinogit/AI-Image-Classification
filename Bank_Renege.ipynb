{
  "nbformat": 4,
  "nbformat_minor": 0,
  "metadata": {
    "colab": {
      "provenance": [],
      "authorship_tag": "ABX9TyPfGUmm8Nojm41aJ4TT6EFj",
      "include_colab_link": true
    },
    "kernelspec": {
      "name": "python3",
      "display_name": "Python 3"
    },
    "language_info": {
      "name": "python"
    }
  },
  "cells": [
    {
      "cell_type": "markdown",
      "metadata": {
        "id": "view-in-github",
        "colab_type": "text"
      },
      "source": [
        "<a href=\"https://colab.research.google.com/github/Mabinogit/AI-Image-Classification/blob/main/Bank_Renege.ipynb\" target=\"_parent\"><img src=\"https://colab.research.google.com/assets/colab-badge.svg\" alt=\"Open In Colab\"/></a>"
      ]
    },
    {
      "cell_type": "code",
      "execution_count": null,
      "metadata": {
        "id": "MrDac0ou69NL"
      },
      "outputs": [],
      "source": []
    },
    {
      "cell_type": "markdown",
      "source": [
        "This example models a bank counter and customers arriving at random times. Each customer has a certain patience. She waits to get to the counter until she’s at the end of her tether. If she gets to the counter, she uses it for a while before releasing it."
      ],
      "metadata": {
        "id": "TwtMiTqw7Ooa"
      }
    },
    {
      "cell_type": "code",
      "source": [
        "!pip install simpy\n",
        "\n",
        "import random\n",
        "import simpy"
      ],
      "metadata": {
        "colab": {
          "base_uri": "https://localhost:8080/"
        },
        "id": "vp64z16c7QDp",
        "outputId": "0b32b398-528f-40b7-d4d2-e5785e81fd51"
      },
      "execution_count": 1,
      "outputs": [
        {
          "output_type": "stream",
          "name": "stdout",
          "text": [
            "Collecting simpy\n",
            "  Downloading simpy-4.1.1-py3-none-any.whl.metadata (6.1 kB)\n",
            "Downloading simpy-4.1.1-py3-none-any.whl (27 kB)\n",
            "Installing collected packages: simpy\n",
            "Successfully installed simpy-4.1.1\n"
          ]
        }
      ]
    },
    {
      "cell_type": "code",
      "source": [
        "\n",
        "random_seed = 42\n",
        "NEW_CUSTOMERS = random.randint(25,50)  # Total number of customers\n",
        "INTERVAL_CUSTOMERS = random.randint(1,25)  # Generate new customers roughly every x seconds\n",
        "MIN_PATIENCE = 1  # Min. customer patience\n",
        "MAX_PATIENCE = 3  # Max. customer patience\n",
        "cus_serviced = 0\n",
        "cus_renaged = 0"
      ],
      "metadata": {
        "id": "dfbhOcW9OIgm"
      },
      "execution_count": 2,
      "outputs": []
    },
    {
      "cell_type": "code",
      "source": [
        "# Setup and start the simulation\n",
        "print('Bank renege')\n",
        "random.seed(random_seed)\n",
        "env = simpy.Environment()\n",
        "counter = simpy.Resource(env, capacity=2)\n",
        "result_store = simpy.Store(env)  # Create a Store to hold results"
      ],
      "metadata": {
        "colab": {
          "base_uri": "https://localhost:8080/"
        },
        "id": "WRU9WIg4KYKu",
        "outputId": "b6470097-98d6-4000-cfa7-dbc230a5f54f"
      },
      "execution_count": 3,
      "outputs": [
        {
          "output_type": "stream",
          "name": "stdout",
          "text": [
            "Bank renege\n"
          ]
        }
      ]
    },
    {
      "cell_type": "code",
      "source": [
        "def source(env, number, interval, counter,  result_store ):\n",
        "    \"\"\"Source generates customers randomly\"\"\"\n",
        "    for i in range(number):\n",
        "      c = customer(env, f'Customer{i:02d}', counter, time_in_bank=12.0,  result_store=result_store )\n",
        "      env.process(c)\n",
        "      t = random.expovariate(1.0 / interval)\n",
        "      yield env.timeout(t)\n"
      ],
      "metadata": {
        "id": "MQhpu-Tu9WaB"
      },
      "execution_count": 4,
      "outputs": []
    },
    {
      "cell_type": "code",
      "source": [
        "def customer(env, name, counter, time_in_bank,  result_store ):\n",
        "    \"\"\"Customer arrives, is served and leaves.\"\"\"\n",
        "\n",
        "    arrive = env.now\n",
        "    print(f'{arrive:7.4f} {name}: Here I am')\n",
        "\n",
        "\n",
        "    with counter.request() as req:\n",
        "        patience = random.uniform(MIN_PATIENCE, MAX_PATIENCE)\n",
        "        # Wait for the counter or abort at the end of our tether\n",
        "        results = yield req | env.timeout(patience)\n",
        "\n",
        "        wait = env.now - arrive\n",
        "\n",
        "        if req in results:\n",
        "            # We got to the counter\n",
        "            print(f'{env.now:7.4f} {name}: Waited {wait:6.3f}')\n",
        "            yield result_store.put('serviced')  # Put 'serviced' into the store\n",
        "\n",
        "            tib = random.expovariate(1.0 / time_in_bank)\n",
        "            yield env.timeout(tib)\n",
        "            print(f'{env.now:7.4f} {name}: Finished')\n",
        "\n",
        "\n",
        "\n",
        "        else:\n",
        "            # We reneged\n",
        "            print(f'{env.now:7.4f} {name}: RENEGED after {wait:6.3f}')\n",
        "            yield result_store.put('reneged')  # Put 'reneged' into the store\n"
      ],
      "metadata": {
        "id": "eT9gHuAQDVr0"
      },
      "execution_count": 7,
      "outputs": []
    },
    {
      "cell_type": "markdown",
      "source": [
        " random.uniform - used to generate a random floating-point number within a specified range.\n",
        "\n",
        " random.expovariate - generates a random number following an exponential distribution. Often used to model the time between events, where events occur continuously and independently at a constant average rate."
      ],
      "metadata": {
        "id": "UcbDVaEFEtu9"
      }
    },
    {
      "cell_type": "code",
      "source": [
        "# Start processes and run\n",
        "\n",
        "env.process(source(env, NEW_CUSTOMERS, INTERVAL_CUSTOMERS, counter, result_store))\n",
        "env.run()\n",
        "\n",
        "\n",
        "print(f'Serviced: {cus_serviced}, Reneged: {cus_renaged}')"
      ],
      "metadata": {
        "colab": {
          "base_uri": "https://localhost:8080/"
        },
        "id": "tyQb_i-bEC6P",
        "outputId": "c2c35c31-91c8-419e-fc15-48037a346f15"
      },
      "execution_count": 8,
      "outputs": [
        {
          "output_type": "stream",
          "name": "stdout",
          "text": [
            "646.0130 Customer00: Here I am\n",
            "646.0130 Customer00: Waited  0.000\n",
            "646.9782 Customer01: Here I am\n",
            "646.9782 Customer01: Waited  0.000\n",
            "647.7658 Customer01: Finished\n",
            "657.8614 Customer00: Finished\n",
            "678.3902 Customer02: Here I am\n",
            "678.3902 Customer02: Waited  0.000\n",
            "687.4279 Customer02: Finished\n",
            "688.0032 Customer03: Here I am\n",
            "688.0032 Customer03: Waited  0.000\n",
            "688.1418 Customer03: Finished\n",
            "758.8665 Customer04: Here I am\n",
            "758.8665 Customer04: Waited  0.000\n",
            "768.1061 Customer04: Finished\n",
            "784.3775 Customer05: Here I am\n",
            "784.3775 Customer05: Waited  0.000\n",
            "785.7968 Customer05: Finished\n",
            "790.5849 Customer06: Here I am\n",
            "790.5849 Customer06: Waited  0.000\n",
            "801.9952 Customer07: Here I am\n",
            "801.9952 Customer07: Waited  0.000\n",
            "810.3270 Customer07: Finished\n",
            "827.4863 Customer06: Finished\n",
            "843.7209 Customer08: Here I am\n",
            "843.7209 Customer08: Waited  0.000\n",
            "847.6571 Customer09: Here I am\n",
            "847.6571 Customer09: Waited  0.000\n",
            "854.7462 Customer10: Here I am\n",
            "857.2712 Customer10: RENEGED after  2.525\n",
            "858.0635 Customer11: Here I am\n",
            "858.9248 Customer09: Finished\n",
            "858.9248 Customer11: Waited  0.861\n",
            "867.9941 Customer11: Finished\n",
            "868.2516 Customer08: Finished\n",
            "873.5671 Customer12: Here I am\n",
            "873.5671 Customer12: Waited  0.000\n",
            "873.5786 Customer13: Here I am\n",
            "873.5786 Customer13: Waited  0.000\n",
            "873.8031 Customer12: Finished\n",
            "894.9602 Customer13: Finished\n",
            "926.5079 Customer14: Here I am\n",
            "926.5079 Customer14: Waited  0.000\n",
            "933.8572 Customer15: Here I am\n",
            "933.8572 Customer15: Waited  0.000\n",
            "941.8434 Customer15: Finished\n",
            "951.7536 Customer14: Finished\n",
            "992.5874 Customer16: Here I am\n",
            "992.5874 Customer16: Waited  0.000\n",
            "994.0219 Customer17: Here I am\n",
            "994.0219 Customer17: Waited  0.000\n",
            "996.7702 Customer18: Here I am\n",
            "999.5151 Customer18: RENEGED after  2.745\n",
            "1002.9294 Customer19: Here I am\n",
            "1003.5987 Customer17: Finished\n",
            "1003.5987 Customer19: Waited  0.669\n",
            "1010.0081 Customer16: Finished\n",
            "1012.8987 Customer19: Finished\n",
            "1013.9325 Customer20: Here I am\n",
            "1013.9325 Customer20: Waited  0.000\n",
            "1018.4151 Customer20: Finished\n",
            "1040.1140 Customer21: Here I am\n",
            "1040.1140 Customer21: Waited  0.000\n",
            "1047.0312 Customer21: Finished\n",
            "1146.6869 Customer22: Here I am\n",
            "1146.6869 Customer22: Waited  0.000\n",
            "1149.7409 Customer22: Finished\n",
            "1161.2655 Customer23: Here I am\n",
            "1161.2655 Customer23: Waited  0.000\n",
            "1164.4037 Customer23: Finished\n",
            "1169.5179 Customer24: Here I am\n",
            "1169.5179 Customer24: Waited  0.000\n",
            "1174.4927 Customer25: Here I am\n",
            "1174.4927 Customer25: Waited  0.000\n",
            "1179.6925 Customer26: Here I am\n",
            "1181.1624 Customer27: Here I am\n",
            "1181.1686 Customer26: RENEGED after  1.476\n",
            "1181.4848 Customer24: Finished\n",
            "1181.4848 Customer27: Waited  0.322\n",
            "1183.1878 Customer27: Finished\n",
            "1198.0549 Customer25: Finished\n",
            "1203.2738 Customer28: Here I am\n",
            "1203.2738 Customer28: Waited  0.000\n",
            "1210.9530 Customer28: Finished\n",
            "1258.1000 Customer29: Here I am\n",
            "1258.1000 Customer29: Waited  0.000\n",
            "1260.6347 Customer29: Finished\n",
            "Serviced: 0, Reneged: 0\n"
          ]
        }
      ]
    },
    {
      "cell_type": "code",
      "source": [],
      "metadata": {
        "id": "pk_nJgyoEQ-O"
      },
      "execution_count": null,
      "outputs": []
    }
  ]
}