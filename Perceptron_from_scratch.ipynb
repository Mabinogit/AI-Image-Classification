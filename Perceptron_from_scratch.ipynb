{
  "nbformat": 4,
  "nbformat_minor": 0,
  "metadata": {
    "colab": {
      "provenance": [],
      "authorship_tag": "ABX9TyPW2sYeaV7vIz38x4pTet7z",
      "include_colab_link": true
    },
    "kernelspec": {
      "name": "python3",
      "display_name": "Python 3"
    },
    "language_info": {
      "name": "python"
    }
  },
  "cells": [
    {
      "cell_type": "markdown",
      "metadata": {
        "id": "view-in-github",
        "colab_type": "text"
      },
      "source": [
        "<a href=\"https://colab.research.google.com/github/Mabinogit/AI-Image-Classification/blob/main/Perceptron_from_scratch.ipynb\" target=\"_parent\"><img src=\"https://colab.research.google.com/assets/colab-badge.svg\" alt=\"Open In Colab\"/></a>"
      ]
    },
    {
      "cell_type": "code",
      "execution_count": 1,
      "metadata": {
        "id": "tLHc64K5-Zfz"
      },
      "outputs": [],
      "source": [
        "import numpy as np"
      ]
    },
    {
      "cell_type": "markdown",
      "source": [
        "Sigmoid Perceptron Class"
      ],
      "metadata": {
        "id": "BIz6ss8v_mni"
      }
    },
    {
      "cell_type": "code",
      "source": [
        "class sigmoid_perceptron:\n",
        "\n",
        "  def __init__(self, input_size,):\n",
        "    self.weights = np.random.randn(input_size)\n",
        "    self.bias = np.random.randn(1)\n",
        "\n",
        "\n",
        "# activation funtion\n",
        "  def sigmoid(self, z):\n",
        "    return 1 / (1 + np.exp(-z))\n",
        "\n",
        "\n",
        " # sum of inputs and weights and returns value after activation\n",
        "  def predict(self,inputs):\n",
        "\n",
        "    # the np.dot wil multiply the first input value with the first weight.\n",
        "    weighted_sum = np.dot(self.weights, inputs) + self.bias\n",
        "    return self.sigmoid(weighted_sum)\n",
        "\n",
        "\n",
        "  # back propagation/ optimization by changing weights and bias\n",
        "  def fit(self,input,targets,learning_rate,num_epoch):\n",
        "\n",
        "    # number of data points that you have\n",
        "    num_examples = input.shape[0]\n",
        "\n",
        "    for epoch in range(num_epoch):\n",
        "\n",
        "      for i in range(num_examples):\n",
        "        # input from neuron\n",
        "        input_vector = input[i]\n",
        "       # expected result or prediction\n",
        "        target = target[i]\n",
        "        # actual prediction of result\n",
        "        prediction = self.predict(input_vector)\n",
        "        # loss/ cost function\n",
        "        error = target - prediction\n",
        "\n",
        "        # update weights\n",
        "        # dw              # partial derivative of loss function with respect to w\n",
        "        gradient_weights = error * prediction * (1 - prediction) * input_vector\n",
        "        self.weights += learning_rate * error * input_vector\n",
        "\n",
        "        # update bias\n",
        "        # db            # partial derivative of loss function with respect to b\n",
        "        gradient_bias = error * prediction * (1 - prediction)\n",
        "        self.bias += learning_rate * error\n",
        "\n",
        "\n",
        "\n",
        "\n",
        "  # evalute the perceptrons performance\n",
        "  def evaluate(self, input, targets):\n",
        "\n",
        "    correct = 0\n",
        "\n",
        "    for input_vector, target in zip(input, targets):\n",
        "      prediction = self.predict(input_vector)\n",
        "\n",
        "      if prediction >= 0.5:\n",
        "        predicted_class = 1\n",
        "      else:\n",
        "        predicted_class = 0\n",
        "\n",
        "      if predicted_class == target:\n",
        "        correct += 1\n",
        "\n",
        "    accuracy = correct / len(input)   # accuracy = num of correct / num of attempts\n",
        "    return accuracy\n"
      ],
      "metadata": {
        "id": "jBeEUErn_k0y"
      },
      "execution_count": null,
      "outputs": []
    }
  ]
}