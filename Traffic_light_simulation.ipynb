{
  "nbformat": 4,
  "nbformat_minor": 0,
  "metadata": {
    "colab": {
      "provenance": [],
      "authorship_tag": "ABX9TyOBX1FACib/0dh4jZmsu6Yl",
      "include_colab_link": true
    },
    "kernelspec": {
      "name": "python3",
      "display_name": "Python 3"
    },
    "language_info": {
      "name": "python"
    }
  },
  "cells": [
    {
      "cell_type": "markdown",
      "metadata": {
        "id": "view-in-github",
        "colab_type": "text"
      },
      "source": [
        "<a href=\"https://colab.research.google.com/github/Mabinogit/AI-Image-Classification/blob/main/Traffic_light_simulation.ipynb\" target=\"_parent\"><img src=\"https://colab.research.google.com/assets/colab-badge.svg\" alt=\"Open In Colab\"/></a>"
      ]
    },
    {
      "cell_type": "code",
      "execution_count": 1,
      "metadata": {
        "colab": {
          "base_uri": "https://localhost:8080/"
        },
        "id": "G1pWfHyVImYX",
        "outputId": "c527baa7-e6b2-403b-ec15-c8f66f030b2e"
      },
      "outputs": [
        {
          "output_type": "stream",
          "name": "stdout",
          "text": [
            "Collecting simpy\n",
            "  Downloading simpy-4.1.1-py3-none-any.whl.metadata (6.1 kB)\n",
            "Downloading simpy-4.1.1-py3-none-any.whl (27 kB)\n",
            "Installing collected packages: simpy\n",
            "Successfully installed simpy-4.1.1\n"
          ]
        }
      ],
      "source": [
        "!pip install simpy"
      ]
    },
    {
      "cell_type": "code",
      "source": [
        "#build traffic light simulation\n",
        "def Traffic_light(env):\n",
        "  while True:\n",
        "    print(f'Green light at {env.now}')\n",
        "    green_light_duration = 10\n",
        "    yield env.timeout(green_light_duration)\n",
        "\n",
        "    print(f'Yellow light at {env.now}')\n",
        "    yellow_light_duration = 2\n",
        "    yield env.timeout(yellow_light_duration)\n",
        "\n",
        "    print(f'Red light at {env.now}')\n",
        "    red_light_duration = 10\n",
        "    yield env.timeout(red_light_duration)\n"
      ],
      "metadata": {
        "id": "CxZrMFVAJAa0"
      },
      "execution_count": 16,
      "outputs": []
    },
    {
      "cell_type": "code",
      "source": [
        "import simpy\n",
        "env = simpy.Environment()\n",
        "env.process(Traffic_light(env))\n",
        "env.run(until = 100) # the time at which the simulation will stop#"
      ],
      "metadata": {
        "colab": {
          "base_uri": "https://localhost:8080/"
        },
        "id": "pwvst8wjLP5S",
        "outputId": "45c164ef-ed23-4fdc-ab13-a28beffa23d2"
      },
      "execution_count": 17,
      "outputs": [
        {
          "output_type": "stream",
          "name": "stdout",
          "text": [
            "Green light at 0\n",
            "Yellow light at 10\n",
            "Red light at 12\n",
            "Green light at 22\n",
            "Yellow light at 32\n",
            "Red light at 34\n",
            "Green light at 44\n",
            "Yellow light at 54\n",
            "Red light at 56\n",
            "Green light at 66\n",
            "Yellow light at 76\n",
            "Red light at 78\n",
            "Green light at 88\n",
            "Yellow light at 98\n"
          ]
        }
      ]
    },
    {
      "cell_type": "code",
      "source": [],
      "metadata": {
        "id": "JLxEZWJoLwp3"
      },
      "execution_count": 11,
      "outputs": []
    }
  ]
}