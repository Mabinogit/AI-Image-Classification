{
  "nbformat": 4,
  "nbformat_minor": 0,
  "metadata": {
    "colab": {
      "provenance": [],
      "authorship_tag": "ABX9TyPjjPiVBJG+2Oh66+lLZnkY",
      "include_colab_link": true
    },
    "kernelspec": {
      "name": "python3",
      "display_name": "Python 3"
    },
    "language_info": {
      "name": "python"
    }
  },
  "cells": [
    {
      "cell_type": "markdown",
      "metadata": {
        "id": "view-in-github",
        "colab_type": "text"
      },
      "source": [
        "<a href=\"https://colab.research.google.com/github/Mabinogit/AI-Image-Classification/blob/main/Simpy_Introduction_Call_center.ipynb\" target=\"_parent\"><img src=\"https://colab.research.google.com/assets/colab-badge.svg\" alt=\"Open In Colab\"/></a>"
      ]
    },
    {
      "cell_type": "code",
      "execution_count": 11,
      "metadata": {
        "colab": {
          "base_uri": "https://localhost:8080/"
        },
        "id": "ypOmZ12nXYge",
        "outputId": "a207d1a9-5230-4003-ce6f-f8d9de912243"
      },
      "outputs": [
        {
          "output_type": "stream",
          "name": "stdout",
          "text": [
            "Collecting simpy\n",
            "  Downloading simpy-4.1.1-py3-none-any.whl.metadata (6.1 kB)\n",
            "Downloading simpy-4.1.1-py3-none-any.whl (27 kB)\n",
            "Installing collected packages: simpy\n",
            "Successfully installed simpy-4.1.1\n",
            "Requirement already satisfied: numpy in /usr/local/lib/python3.10/dist-packages (1.26.4)\n"
          ]
        }
      ],
      "source": [
        "! pip install simpy\n",
        "! pip install numpy\n"
      ]
    },
    {
      "cell_type": "code",
      "source": [],
      "metadata": {
        "id": "I0grVqsuXjVA"
      },
      "execution_count": null,
      "outputs": []
    },
    {
      "cell_type": "markdown",
      "source": [
        "Call center example\n"
      ],
      "metadata": {
        "id": "1U6BxUpUDuT8"
      }
    },
    {
      "cell_type": "code",
      "source": [
        "import random\n",
        "import simpy\n",
        "import numpy as np"
      ],
      "metadata": {
        "id": "jfoG89eDDxWA"
      },
      "execution_count": 12,
      "outputs": []
    },
    {
      "cell_type": "code",
      "source": [
        "Num_of_employees = 2\n",
        "avg_call_time = 2\n",
        "customer_calls_every =2\n",
        "Simulation_time = 120\n",
        "\n",
        "customer_handled = 0"
      ],
      "metadata": {
        "id": "tkmdgWnjD4pf"
      },
      "execution_count": 28,
      "outputs": []
    },
    {
      "cell_type": "code",
      "source": [],
      "metadata": {
        "id": "lAcvT5Ld7Xcf"
      },
      "execution_count": null,
      "outputs": []
    },
    {
      "cell_type": "markdown",
      "source": [
        "Call center class\n"
      ],
      "metadata": {
        "id": "cy8udwOU7YlZ"
      }
    },
    {
      "cell_type": "code",
      "source": [
        "class CalCenter:\n",
        "\n",
        "    def __init__(self, env, num_of_employees, avg_call_time):\n",
        "        self.env = env\n",
        "        self.staff = simpy.Resource(env, num_of_employees)\n",
        "        self.avg_call_time = avg_call_time\n",
        "\n",
        "    def support(self, customer):\n",
        "        random_time = max(1, np.random.normal(self.avg_call_time, 4))\n",
        "        yield self.env.timeout(random_time)\n",
        "        print(f\"Support finished for {customer} at {self.env.now:.2f}\")\n",
        "\n",
        "\n",
        ""
      ],
      "metadata": {
        "id": "8B5G0Iqd7cJ5"
      },
      "execution_count": 21,
      "outputs": []
    },
    {
      "cell_type": "code",
      "source": [
        "def customer(env,name,call_center):\n",
        "      global customer_handled\n",
        "      print(f\"Customer {name} enters waiting queue at {env.now:.2f}\")\n",
        "      with call_center.staff.request() as request:\n",
        "          yield request\n",
        "          print(f\"Customer {name} enters enters call center at {env.now:.2f}\")\n",
        "          yield env.process(call_center.support(name))\n",
        "          print(f\"Customer {name} leaves call center at {env.now:.2f}\")\n",
        "          customer_handled += 1"
      ],
      "metadata": {
        "id": "t59Mcnfd7kmc"
      },
      "execution_count": 22,
      "outputs": []
    },
    {
      "cell_type": "code",
      "source": [
        "def setup(env, num_of_employees, avg_call_time, customer_calls_every):\n",
        "    call_center = CalCenter(env, num_of_employees, avg_call_time)\n",
        "\n",
        "    for i in range(1, 6):\n",
        "        env.process(customer(env,i, call_center))\n",
        "\n",
        "    while True:\n",
        "        yield env.timeout(random.randint(customer_calls_every - 1, customer_calls_every + 1))\n",
        "        i += 1\n",
        "        env.process(customer(env,i, call_center))\n",
        "\n",
        "print(\"Starting Call center simulation\")\n",
        "env = simpy.Environment()\n",
        "env.process(setup(env, Num_of_employees, avg_call_time, customer_calls_every))\n",
        "env.run(until = Simulation_time)\n",
        "\n",
        "print(\"Customers handled: \" + str(customer_handled))"
      ],
      "metadata": {
        "colab": {
          "base_uri": "https://localhost:8080/"
        },
        "id": "wAnudHK2AMuc",
        "outputId": "dc9fe369-eda4-46f1-b863-50b4a2180836"
      },
      "execution_count": 29,
      "outputs": [
        {
          "output_type": "stream",
          "name": "stdout",
          "text": [
            "Starting Call center simulation\n",
            "Customer 1 enters waiting queue at 0.00\n",
            "Customer 2 enters waiting queue at 0.00\n",
            "Customer 3 enters waiting queue at 0.00\n",
            "Customer 4 enters waiting queue at 0.00\n",
            "Customer 5 enters waiting queue at 0.00\n",
            "Customer 1 enters enters call center at 0.00\n",
            "Customer 2 enters enters call center at 0.00\n",
            "Support finished for 1 at 1.00\n",
            "Customer 1 leaves call center at 1.00\n",
            "Customer 3 enters enters call center at 1.00\n",
            "Support finished for 2 at 1.91\n",
            "Customer 2 leaves call center at 1.91\n",
            "Customer 4 enters enters call center at 1.91\n",
            "Customer 6 enters waiting queue at 2.00\n",
            "Support finished for 3 at 2.79\n",
            "Customer 3 leaves call center at 2.79\n",
            "Customer 5 enters enters call center at 2.79\n",
            "Support finished for 4 at 2.91\n",
            "Customer 4 leaves call center at 2.91\n",
            "Customer 6 enters enters call center at 2.91\n",
            "Customer 7 enters waiting queue at 3.00\n",
            "Support finished for 6 at 4.63\n",
            "Customer 6 leaves call center at 4.63\n",
            "Customer 7 enters enters call center at 4.63\n",
            "Customer 8 enters waiting queue at 5.00\n",
            "Support finished for 7 at 5.63\n",
            "Customer 7 leaves call center at 5.63\n",
            "Customer 8 enters enters call center at 5.63\n",
            "Customer 9 enters waiting queue at 6.00\n",
            "Support finished for 5 at 6.08\n",
            "Customer 5 leaves call center at 6.08\n",
            "Customer 9 enters enters call center at 6.08\n",
            "Support finished for 9 at 7.55\n",
            "Customer 9 leaves call center at 7.55\n",
            "Customer 10 enters waiting queue at 8.00\n",
            "Customer 10 enters enters call center at 8.00\n",
            "Support finished for 10 at 9.00\n",
            "Customer 10 leaves call center at 9.00\n",
            "Support finished for 8 at 10.60\n",
            "Customer 8 leaves call center at 10.60\n",
            "Customer 11 enters waiting queue at 11.00\n",
            "Customer 11 enters enters call center at 11.00\n",
            "Customer 12 enters waiting queue at 13.00\n",
            "Customer 12 enters enters call center at 13.00\n",
            "Support finished for 12 at 14.00\n",
            "Customer 12 leaves call center at 14.00\n",
            "Customer 13 enters waiting queue at 15.00\n",
            "Customer 13 enters enters call center at 15.00\n",
            "Support finished for 11 at 15.52\n",
            "Customer 11 leaves call center at 15.52\n",
            "Support finished for 13 at 16.00\n",
            "Customer 13 leaves call center at 16.00\n",
            "Customer 14 enters waiting queue at 17.00\n",
            "Customer 14 enters enters call center at 17.00\n",
            "Customer 15 enters waiting queue at 18.00\n",
            "Customer 15 enters enters call center at 18.00\n",
            "Support finished for 15 at 19.00\n",
            "Customer 15 leaves call center at 19.00\n",
            "Customer 16 enters waiting queue at 20.00\n",
            "Customer 16 enters enters call center at 20.00\n",
            "Support finished for 16 at 22.83\n",
            "Customer 16 leaves call center at 22.83\n",
            "Customer 17 enters waiting queue at 23.00\n",
            "Customer 17 enters enters call center at 23.00\n",
            "Support finished for 17 at 24.00\n",
            "Customer 17 leaves call center at 24.00\n",
            "Customer 18 enters waiting queue at 25.00\n",
            "Customer 18 enters enters call center at 25.00\n",
            "Support finished for 14 at 25.59\n",
            "Customer 14 leaves call center at 25.59\n",
            "Customer 19 enters waiting queue at 26.00\n",
            "Customer 19 enters enters call center at 26.00\n",
            "Customer 20 enters waiting queue at 27.00\n",
            "Customer 21 enters waiting queue at 28.00\n",
            "Support finished for 18 at 28.23\n",
            "Customer 18 leaves call center at 28.23\n",
            "Customer 20 enters enters call center at 28.23\n",
            "Customer 22 enters waiting queue at 29.00\n",
            "Support finished for 20 at 29.23\n",
            "Customer 20 leaves call center at 29.23\n",
            "Customer 21 enters enters call center at 29.23\n",
            "Support finished for 21 at 30.23\n",
            "Customer 21 leaves call center at 30.23\n",
            "Customer 22 enters enters call center at 30.23\n",
            "Customer 23 enters waiting queue at 31.00\n",
            "Support finished for 19 at 32.43\n",
            "Customer 19 leaves call center at 32.43\n",
            "Customer 23 enters enters call center at 32.43\n",
            "Customer 24 enters waiting queue at 33.00\n",
            "Customer 25 enters waiting queue at 34.00\n",
            "Customer 26 enters waiting queue at 36.00\n",
            "Support finished for 22 at 37.16\n",
            "Customer 22 leaves call center at 37.16\n",
            "Customer 24 enters enters call center at 37.16\n",
            "Support finished for 24 at 38.30\n",
            "Customer 24 leaves call center at 38.30\n",
            "Customer 25 enters enters call center at 38.30\n",
            "Customer 27 enters waiting queue at 39.00\n",
            "Support finished for 25 at 39.30\n",
            "Customer 25 leaves call center at 39.30\n",
            "Customer 26 enters enters call center at 39.30\n",
            "Support finished for 23 at 39.85\n",
            "Customer 23 leaves call center at 39.85\n",
            "Customer 27 enters enters call center at 39.85\n",
            "Support finished for 26 at 40.30\n",
            "Customer 26 leaves call center at 40.30\n",
            "Support finished for 27 at 40.85\n",
            "Customer 27 leaves call center at 40.85\n",
            "Customer 28 enters waiting queue at 42.00\n",
            "Customer 28 enters enters call center at 42.00\n",
            "Support finished for 28 at 43.00\n",
            "Customer 28 leaves call center at 43.00\n",
            "Customer 29 enters waiting queue at 44.00\n",
            "Customer 29 enters enters call center at 44.00\n",
            "Customer 30 enters waiting queue at 46.00\n",
            "Customer 30 enters enters call center at 46.00\n",
            "Customer 31 enters waiting queue at 49.00\n",
            "Support finished for 29 at 49.54\n",
            "Customer 29 leaves call center at 49.54\n",
            "Customer 31 enters enters call center at 49.54\n",
            "Customer 32 enters waiting queue at 50.00\n",
            "Customer 33 enters waiting queue at 53.00\n",
            "Support finished for 30 at 53.38\n",
            "Customer 30 leaves call center at 53.38\n",
            "Customer 32 enters enters call center at 53.38\n",
            "Support finished for 32 at 55.10\n",
            "Customer 32 leaves call center at 55.10\n",
            "Customer 33 enters enters call center at 55.10\n",
            "Customer 34 enters waiting queue at 56.00\n",
            "Support finished for 33 at 56.61\n",
            "Customer 33 leaves call center at 56.61\n",
            "Customer 34 enters enters call center at 56.61\n",
            "Support finished for 31 at 57.93\n",
            "Customer 31 leaves call center at 57.93\n",
            "Customer 35 enters waiting queue at 58.00\n",
            "Customer 35 enters enters call center at 58.00\n",
            "Customer 36 enters waiting queue at 59.00\n",
            "Customer 37 enters waiting queue at 61.00\n",
            "Customer 38 enters waiting queue at 62.00\n",
            "Customer 39 enters waiting queue at 64.00\n",
            "Support finished for 35 at 65.29\n",
            "Customer 35 leaves call center at 65.29\n",
            "Customer 36 enters enters call center at 65.29\n",
            "Support finished for 36 at 66.29\n",
            "Customer 36 leaves call center at 66.29\n",
            "Customer 37 enters enters call center at 66.29\n",
            "Support finished for 34 at 66.42\n",
            "Customer 34 leaves call center at 66.42\n",
            "Customer 38 enters enters call center at 66.42\n",
            "Customer 40 enters waiting queue at 67.00\n",
            "Support finished for 37 at 67.29\n",
            "Customer 37 leaves call center at 67.29\n",
            "Customer 39 enters enters call center at 67.29\n",
            "Support finished for 38 at 67.42\n",
            "Customer 38 leaves call center at 67.42\n",
            "Customer 40 enters enters call center at 67.42\n",
            "Customer 41 enters waiting queue at 68.00\n",
            "Support finished for 40 at 68.42\n",
            "Customer 40 leaves call center at 68.42\n",
            "Customer 41 enters enters call center at 68.42\n",
            "Support finished for 39 at 69.79\n",
            "Customer 39 leaves call center at 69.79\n",
            "Customer 42 enters waiting queue at 71.00\n",
            "Customer 42 enters enters call center at 71.00\n",
            "Customer 43 enters waiting queue at 72.00\n",
            "Customer 44 enters waiting queue at 73.00\n",
            "Customer 45 enters waiting queue at 76.00\n",
            "Support finished for 42 at 76.36\n",
            "Customer 42 leaves call center at 76.36\n",
            "Customer 43 enters enters call center at 76.36\n",
            "Support finished for 41 at 77.47\n",
            "Customer 41 leaves call center at 77.47\n",
            "Customer 44 enters enters call center at 77.47\n",
            "Customer 46 enters waiting queue at 79.00\n",
            "Support finished for 43 at 80.89\n",
            "Customer 43 leaves call center at 80.89\n",
            "Customer 45 enters enters call center at 80.89\n",
            "Support finished for 44 at 81.53\n",
            "Customer 44 leaves call center at 81.53\n",
            "Customer 46 enters enters call center at 81.53\n",
            "Support finished for 45 at 81.89\n",
            "Customer 45 leaves call center at 81.89\n",
            "Customer 47 enters waiting queue at 82.00\n",
            "Customer 47 enters enters call center at 82.00\n",
            "Support finished for 46 at 82.53\n",
            "Customer 46 leaves call center at 82.53\n",
            "Customer 48 enters waiting queue at 83.00\n",
            "Customer 48 enters enters call center at 83.00\n",
            "Customer 49 enters waiting queue at 84.00\n",
            "Support finished for 48 at 84.37\n",
            "Customer 48 leaves call center at 84.37\n",
            "Customer 49 enters enters call center at 84.37\n",
            "Customer 50 enters waiting queue at 85.00\n",
            "Customer 51 enters waiting queue at 86.00\n",
            "Customer 52 enters waiting queue at 87.00\n",
            "Support finished for 47 at 87.17\n",
            "Customer 47 leaves call center at 87.17\n",
            "Customer 50 enters enters call center at 87.17\n",
            "Customer 53 enters waiting queue at 89.00\n",
            "Support finished for 49 at 91.11\n",
            "Customer 49 leaves call center at 91.11\n",
            "Customer 51 enters enters call center at 91.11\n",
            "Customer 54 enters waiting queue at 92.00\n",
            "Customer 55 enters waiting queue at 94.00\n",
            "Support finished for 50 at 94.00\n",
            "Customer 50 leaves call center at 94.00\n",
            "Customer 52 enters enters call center at 94.00\n",
            "Support finished for 52 at 95.00\n",
            "Customer 52 leaves call center at 95.00\n",
            "Customer 53 enters enters call center at 95.00\n",
            "Support finished for 51 at 96.33\n",
            "Customer 51 leaves call center at 96.33\n",
            "Customer 54 enters enters call center at 96.33\n",
            "Customer 56 enters waiting queue at 97.00\n",
            "Support finished for 53 at 97.27\n",
            "Customer 53 leaves call center at 97.27\n",
            "Customer 55 enters enters call center at 97.27\n",
            "Support finished for 54 at 97.44\n",
            "Customer 54 leaves call center at 97.44\n",
            "Customer 56 enters enters call center at 97.44\n",
            "Customer 57 enters waiting queue at 98.00\n",
            "Support finished for 55 at 98.27\n",
            "Customer 55 leaves call center at 98.27\n",
            "Customer 57 enters enters call center at 98.27\n",
            "Support finished for 56 at 98.44\n",
            "Customer 56 leaves call center at 98.44\n",
            "Support finished for 57 at 99.77\n",
            "Customer 57 leaves call center at 99.77\n",
            "Customer 58 enters waiting queue at 100.00\n",
            "Customer 58 enters enters call center at 100.00\n",
            "Support finished for 58 at 101.00\n",
            "Customer 58 leaves call center at 101.00\n",
            "Customer 59 enters waiting queue at 103.00\n",
            "Customer 59 enters enters call center at 103.00\n",
            "Customer 60 enters waiting queue at 105.00\n",
            "Customer 60 enters enters call center at 105.00\n",
            "Support finished for 59 at 105.27\n",
            "Customer 59 leaves call center at 105.27\n",
            "Support finished for 60 at 106.00\n",
            "Customer 60 leaves call center at 106.00\n",
            "Customer 61 enters waiting queue at 107.00\n",
            "Customer 61 enters enters call center at 107.00\n",
            "Customer 62 enters waiting queue at 110.00\n",
            "Customer 62 enters enters call center at 110.00\n",
            "Customer 63 enters waiting queue at 112.00\n",
            "Customer 64 enters waiting queue at 113.00\n",
            "Customer 65 enters waiting queue at 115.00\n",
            "Support finished for 61 at 115.84\n",
            "Customer 61 leaves call center at 115.84\n",
            "Customer 63 enters enters call center at 115.84\n",
            "Customer 66 enters waiting queue at 118.00\n",
            "Support finished for 62 at 119.38\n",
            "Customer 62 leaves call center at 119.38\n",
            "Customer 64 enters enters call center at 119.38\n",
            "Customers handled: 62\n"
          ]
        }
      ]
    },
    {
      "cell_type": "code",
      "source": [],
      "metadata": {
        "id": "7WhjhggTBm4J"
      },
      "execution_count": null,
      "outputs": []
    }
  ]
}