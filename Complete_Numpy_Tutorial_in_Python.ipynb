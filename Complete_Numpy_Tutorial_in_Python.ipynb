{
  "nbformat": 4,
  "nbformat_minor": 0,
  "metadata": {
    "colab": {
      "provenance": [],
      "authorship_tag": "ABX9TyPZXAcOEcfHHdegjgdWltl9",
      "include_colab_link": true
    },
    "kernelspec": {
      "name": "python3",
      "display_name": "Python 3"
    },
    "language_info": {
      "name": "python"
    }
  },
  "cells": [
    {
      "cell_type": "markdown",
      "metadata": {
        "id": "view-in-github",
        "colab_type": "text"
      },
      "source": [
        "<a href=\"https://colab.research.google.com/github/Mabinogit/AI-Image-Classification/blob/main/Complete_Numpy_Tutorial_in_Python.ipynb\" target=\"_parent\"><img src=\"https://colab.research.google.com/assets/colab-badge.svg\" alt=\"Open In Colab\"/></a>"
      ]
    },
    {
      "cell_type": "code",
      "execution_count": 1,
      "metadata": {
        "colab": {
          "base_uri": "https://localhost:8080/",
          "height": 106
        },
        "id": "oPN-iETXEe1A",
        "outputId": "9241efbb-114b-4388-d5e2-597e12411ac2"
      },
      "outputs": [
        {
          "output_type": "error",
          "ename": "SyntaxError",
          "evalue": "invalid syntax (<ipython-input-1-bed1df6fed86>, line 1)",
          "traceback": [
            "\u001b[0;36m  File \u001b[0;32m\"<ipython-input-1-bed1df6fed86>\"\u001b[0;36m, line \u001b[0;32m1\u001b[0m\n\u001b[0;31m    import numpy as\u001b[0m\n\u001b[0m                    ^\u001b[0m\n\u001b[0;31mSyntaxError\u001b[0m\u001b[0;31m:\u001b[0m invalid syntax\n"
          ]
        }
      ],
      "source": [
        "import numpy as\n"
      ]
    },
    {
      "cell_type": "code",
      "source": [
        "numpy as np"
      ],
      "metadata": {
        "colab": {
          "base_uri": "https://localhost:8080/",
          "height": 106
        },
        "id": "KRfuytysE0EH",
        "outputId": "0e7ded60-3f6d-4595-9c64-60c05a449ddb"
      },
      "execution_count": 2,
      "outputs": [
        {
          "output_type": "error",
          "ename": "SyntaxError",
          "evalue": "invalid syntax (<ipython-input-2-78d725482125>, line 1)",
          "traceback": [
            "\u001b[0;36m  File \u001b[0;32m\"<ipython-input-2-78d725482125>\"\u001b[0;36m, line \u001b[0;32m1\u001b[0m\n\u001b[0;31m    numpy as np\u001b[0m\n\u001b[0m          ^\u001b[0m\n\u001b[0;31mSyntaxError\u001b[0m\u001b[0;31m:\u001b[0m invalid syntax\n"
          ]
        }
      ]
    },
    {
      "cell_type": "code",
      "source": [
        "import numpy as np"
      ],
      "metadata": {
        "id": "tq55_K1iE7VT"
      },
      "execution_count": 3,
      "outputs": []
    },
    {
      "cell_type": "code",
      "source": [],
      "metadata": {
        "id": "Zp6YHvHKE-ei"
      },
      "execution_count": null,
      "outputs": []
    },
    {
      "cell_type": "markdown",
      "source": [
        "Numpy Array"
      ],
      "metadata": {
        "id": "Bf-dKh-7FeDd"
      }
    },
    {
      "cell_type": "code",
      "source": [
        "np_arra = np.array([1,2,3,4,5])"
      ],
      "metadata": {
        "id": "NDKNIGkVFgGs"
      },
      "execution_count": 4,
      "outputs": []
    },
    {
      "cell_type": "code",
      "source": [
        "print(np_arra)\n"
      ],
      "metadata": {
        "colab": {
          "base_uri": "https://localhost:8080/"
        },
        "id": "LDE5tfI9F6kk",
        "outputId": "302e3d00-7e78-4186-a4b5-97b3d9e240f5"
      },
      "execution_count": 5,
      "outputs": [
        {
          "output_type": "stream",
          "name": "stdout",
          "text": [
            "[1 2 3 4 5]\n"
          ]
        }
      ]
    },
    {
      "cell_type": "code",
      "source": [
        "type(np_arra)"
      ],
      "metadata": {
        "colab": {
          "base_uri": "https://localhost:8080/"
        },
        "id": "5ONN2pUrF8-p",
        "outputId": "e07f1b1c-b4e6-4e1a-a26d-3170552a8246"
      },
      "execution_count": 6,
      "outputs": [
        {
          "output_type": "execute_result",
          "data": {
            "text/plain": [
              "numpy.ndarray"
            ]
          },
          "metadata": {},
          "execution_count": 6
        }
      ]
    },
    {
      "cell_type": "code",
      "source": [
        "# creating 1D array"
      ],
      "metadata": {
        "id": "B3kR5nmyGDKS"
      },
      "execution_count": 7,
      "outputs": []
    },
    {
      "cell_type": "code",
      "source": [
        "a = np.array([1,2,3,4,5])"
      ],
      "metadata": {
        "id": "o_tsDarkGIWx"
      },
      "execution_count": 8,
      "outputs": []
    },
    {
      "cell_type": "code",
      "source": [
        "print(a)"
      ],
      "metadata": {
        "colab": {
          "base_uri": "https://localhost:8080/"
        },
        "id": "BErXWakbGLA8",
        "outputId": "c04414b6-a9ce-42c5-b12d-d93404c53057"
      },
      "execution_count": 9,
      "outputs": [
        {
          "output_type": "stream",
          "name": "stdout",
          "text": [
            "[1 2 3 4 5]\n"
          ]
        }
      ]
    },
    {
      "cell_type": "code",
      "source": [
        "a.shape"
      ],
      "metadata": {
        "colab": {
          "base_uri": "https://localhost:8080/"
        },
        "id": "7ZlfeIDeGOYn",
        "outputId": "1e04f8b7-91f4-4c88-8b42-88bdcca9ca12"
      },
      "execution_count": 10,
      "outputs": [
        {
          "output_type": "execute_result",
          "data": {
            "text/plain": [
              "(5,)"
            ]
          },
          "metadata": {},
          "execution_count": 10
        }
      ]
    },
    {
      "cell_type": "code",
      "source": [
        "# creat 2D array#"
      ],
      "metadata": {
        "id": "oADXaFbmGQ7X"
      },
      "execution_count": 11,
      "outputs": []
    },
    {
      "cell_type": "code",
      "source": [
        "b = np.array([[1,2,3,4,5],[6,7,8,9,10]])\n",
        "print(b)"
      ],
      "metadata": {
        "colab": {
          "base_uri": "https://localhost:8080/"
        },
        "id": "EvcgQKAQGUyf",
        "outputId": "bcda32c2-e0bc-4d30-f1a5-8e4d146ecce8"
      },
      "execution_count": 12,
      "outputs": [
        {
          "output_type": "stream",
          "name": "stdout",
          "text": [
            "[[ 1  2  3  4  5]\n",
            " [ 6  7  8  9 10]]\n"
          ]
        }
      ]
    },
    {
      "cell_type": "code",
      "source": [
        "b.shape"
      ],
      "metadata": {
        "colab": {
          "base_uri": "https://localhost:8080/"
        },
        "id": "jgOTnuA1Ga91",
        "outputId": "623310a2-6b6d-4494-f824-236cde147040"
      },
      "execution_count": 13,
      "outputs": [
        {
          "output_type": "execute_result",
          "data": {
            "text/plain": [
              "(2, 5)"
            ]
          },
          "metadata": {},
          "execution_count": 13
        }
      ]
    },
    {
      "cell_type": "code",
      "source": [
        "c = np.array([(1,2,3,4),(5,6,7,8)],dtype=float)"
      ],
      "metadata": {
        "id": "ldP4A4gPGfTi"
      },
      "execution_count": 18,
      "outputs": []
    },
    {
      "cell_type": "code",
      "source": [
        "print(c)"
      ],
      "metadata": {
        "colab": {
          "base_uri": "https://localhost:8080/"
        },
        "id": "iSsv_qipHpXx",
        "outputId": "6978b46a-7980-4501-e983-9d79bbc21bd4"
      },
      "execution_count": 19,
      "outputs": [
        {
          "output_type": "stream",
          "name": "stdout",
          "text": [
            "[[1. 2. 3. 4.]\n",
            " [5. 6. 7. 8.]]\n"
          ]
        }
      ]
    },
    {
      "cell_type": "code",
      "source": [
        "# intial place holders in numpy arrays"
      ],
      "metadata": {
        "id": "8epTB7TNHr5O"
      },
      "execution_count": 20,
      "outputs": []
    },
    {
      "cell_type": "code",
      "source": [
        "# creat numpy array of zeros"
      ],
      "metadata": {
        "id": "zPBUm1_wHxhU"
      },
      "execution_count": 21,
      "outputs": []
    },
    {
      "cell_type": "code",
      "source": [
        "x = np.zeros((4,5))"
      ],
      "metadata": {
        "id": "sRXAx5N0H7CG"
      },
      "execution_count": 22,
      "outputs": []
    },
    {
      "cell_type": "code",
      "source": [
        "print(x)"
      ],
      "metadata": {
        "id": "ET-4hyC2IDEf",
        "outputId": "c9397c11-02bc-422d-9d15-24e3d63bd16e",
        "colab": {
          "base_uri": "https://localhost:8080/"
        }
      },
      "execution_count": 23,
      "outputs": [
        {
          "output_type": "stream",
          "name": "stdout",
          "text": [
            "[[0. 0. 0. 0. 0.]\n",
            " [0. 0. 0. 0. 0.]\n",
            " [0. 0. 0. 0. 0.]\n",
            " [0. 0. 0. 0. 0.]]\n"
          ]
        }
      ]
    },
    {
      "cell_type": "code",
      "source": [
        "#creat numpy array of 1"
      ],
      "metadata": {
        "id": "9Ewr-8ZTIFM0"
      },
      "execution_count": 24,
      "outputs": []
    },
    {
      "cell_type": "code",
      "source": [
        "y = np.ones((3,3))"
      ],
      "metadata": {
        "id": "iZDV_mIkILs4"
      },
      "execution_count": 25,
      "outputs": []
    },
    {
      "cell_type": "code",
      "source": [
        "#creat array of particular value"
      ],
      "metadata": {
        "id": "mJbI_I2WIPQb"
      },
      "execution_count": 26,
      "outputs": []
    },
    {
      "cell_type": "code",
      "source": [
        "z = np.full((5,4),5)"
      ],
      "metadata": {
        "id": "-ZCuhATnIYpc"
      },
      "execution_count": 28,
      "outputs": []
    },
    {
      "cell_type": "code",
      "source": [
        "print(z)"
      ],
      "metadata": {
        "id": "SmgE_rvdIhPW",
        "outputId": "d002845c-2cba-4ee1-8c47-0fcebd303876",
        "colab": {
          "base_uri": "https://localhost:8080/"
        }
      },
      "execution_count": 29,
      "outputs": [
        {
          "output_type": "stream",
          "name": "stdout",
          "text": [
            "[[5 5 5 5]\n",
            " [5 5 5 5]\n",
            " [5 5 5 5]\n",
            " [5 5 5 5]\n",
            " [5 5 5 5]]\n"
          ]
        }
      ]
    },
    {
      "cell_type": "code",
      "source": [
        "# creat an identity matrix"
      ],
      "metadata": {
        "id": "8XBAidIbI0JQ"
      },
      "execution_count": 30,
      "outputs": []
    },
    {
      "cell_type": "code",
      "source": [
        "a = np.eye(5)"
      ],
      "metadata": {
        "id": "iPlFW5G9I3qE"
      },
      "execution_count": 31,
      "outputs": []
    },
    {
      "cell_type": "code",
      "source": [
        "print(a)"
      ],
      "metadata": {
        "id": "KFehtSHtI_Uk",
        "outputId": "81abd859-5a10-4d97-e8c8-66e3deddb245",
        "colab": {
          "base_uri": "https://localhost:8080/"
        }
      },
      "execution_count": 32,
      "outputs": [
        {
          "output_type": "stream",
          "name": "stdout",
          "text": [
            "[[1. 0. 0. 0. 0.]\n",
            " [0. 1. 0. 0. 0.]\n",
            " [0. 0. 1. 0. 0.]\n",
            " [0. 0. 0. 1. 0.]\n",
            " [0. 0. 0. 0. 1.]]\n"
          ]
        }
      ]
    },
    {
      "cell_type": "code",
      "source": [
        "# creat numpy array with random values"
      ],
      "metadata": {
        "id": "g0VHc0zKJDgK"
      },
      "execution_count": 33,
      "outputs": []
    },
    {
      "cell_type": "code",
      "source": [
        "u = np.random.random((3,4))"
      ],
      "metadata": {
        "id": "by8Q7EAqJSLe"
      },
      "execution_count": 34,
      "outputs": []
    },
    {
      "cell_type": "code",
      "source": [
        "print(u)"
      ],
      "metadata": {
        "id": "QaOe3qzeJX8u",
        "outputId": "1951e26b-8dfa-4860-f50c-bb11a4c21497",
        "colab": {
          "base_uri": "https://localhost:8080/"
        }
      },
      "execution_count": 35,
      "outputs": [
        {
          "output_type": "stream",
          "name": "stdout",
          "text": [
            "[[0.343247   0.09859072 0.58647905 0.8080025 ]\n",
            " [0.9005387  0.73381083 0.18148821 0.81095391]\n",
            " [0.02612266 0.41796951 0.9018239  0.03921845]]\n"
          ]
        }
      ]
    },
    {
      "cell_type": "code",
      "source": [
        "# creat numpy array with random values within a specific range"
      ],
      "metadata": {
        "id": "1diJH_GTJes2"
      },
      "execution_count": 36,
      "outputs": []
    },
    {
      "cell_type": "code",
      "source": [
        "f = np.random.randint(1,100,(5,5))"
      ],
      "metadata": {
        "id": "ML9nFbo0JrhA"
      },
      "execution_count": 37,
      "outputs": []
    },
    {
      "cell_type": "code",
      "source": [
        "print(f)"
      ],
      "metadata": {
        "id": "4VwoOuH-Jy7I",
        "outputId": "c9357494-8234-4101-a68f-f008ee3b3117",
        "colab": {
          "base_uri": "https://localhost:8080/"
        }
      },
      "execution_count": 38,
      "outputs": [
        {
          "output_type": "stream",
          "name": "stdout",
          "text": [
            "[[22 31 30 59 30]\n",
            " [56  3 22 86 24]\n",
            " [60 76 32 79 40]\n",
            " [66 33 42 81 27]\n",
            " [21 63 62 32 78]]\n"
          ]
        }
      ]
    },
    {
      "cell_type": "code",
      "source": [
        "#creat array of evenly spaced values -- specifying number of values"
      ],
      "metadata": {
        "id": "Ety0yrrzJ-0y"
      },
      "execution_count": 39,
      "outputs": []
    },
    {
      "cell_type": "code",
      "source": [
        "s = np.linspace(1,30,5)"
      ],
      "metadata": {
        "id": "v5ZmMUz2KEq_"
      },
      "execution_count": 40,
      "outputs": []
    },
    {
      "cell_type": "code",
      "source": [
        "print(s)"
      ],
      "metadata": {
        "id": "MaAmylLwKMds",
        "outputId": "87c16fdf-82df-45e8-cdeb-3b7491fdaf16",
        "colab": {
          "base_uri": "https://localhost:8080/"
        }
      },
      "execution_count": 41,
      "outputs": [
        {
          "output_type": "stream",
          "name": "stdout",
          "text": [
            "[ 1.    8.25 15.5  22.75 30.  ]\n"
          ]
        }
      ]
    },
    {
      "cell_type": "code",
      "source": [
        "#creat array of evenly spaced values --> specifying the step"
      ],
      "metadata": {
        "id": "_q6X7L_fKOwo"
      },
      "execution_count": 42,
      "outputs": []
    },
    {
      "cell_type": "code",
      "source": [
        "g = np.arange(1,30,5)\n"
      ],
      "metadata": {
        "id": "ameG9rvjKkdg"
      },
      "execution_count": 46,
      "outputs": []
    },
    {
      "cell_type": "code",
      "source": [
        "print(g)"
      ],
      "metadata": {
        "id": "YSAUoYKqKv__",
        "outputId": "5e2bec24-ebe7-4050-a239-f779f21fff75",
        "colab": {
          "base_uri": "https://localhost:8080/"
        }
      },
      "execution_count": 47,
      "outputs": [
        {
          "output_type": "stream",
          "name": "stdout",
          "text": [
            "[ 1  6 11 16 21 26]\n"
          ]
        }
      ]
    },
    {
      "cell_type": "code",
      "source": [
        "# converting list into numpy array"
      ],
      "metadata": {
        "id": "AnWyEdqrLT9W"
      },
      "execution_count": 48,
      "outputs": []
    },
    {
      "cell_type": "code",
      "source": [
        "list2 = [1,2,5,7,4,5,7,8,9,2,46,]\n",
        "\n",
        "np_array = np.asarray(list2)\n",
        "print(np_array)"
      ],
      "metadata": {
        "id": "4gJ6GwFoLbWD",
        "outputId": "6c763ddb-45fc-4c20-9448-096de603d19b",
        "colab": {
          "base_uri": "https://localhost:8080/"
        }
      },
      "execution_count": 49,
      "outputs": [
        {
          "output_type": "stream",
          "name": "stdout",
          "text": [
            "[ 1  2  5  7  4  5  7  8  9  2 46]\n"
          ]
        }
      ]
    },
    {
      "cell_type": "code",
      "source": [],
      "metadata": {
        "id": "zkFdGk91Lqum"
      },
      "execution_count": null,
      "outputs": []
    }
  ]
}